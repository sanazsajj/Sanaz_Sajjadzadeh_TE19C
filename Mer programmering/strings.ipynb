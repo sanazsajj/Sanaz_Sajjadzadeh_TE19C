{
 "metadata": {
  "language_info": {
   "codemirror_mode": {
    "name": "ipython",
    "version": 3
   },
   "file_extension": ".py",
   "mimetype": "text/x-python",
   "name": "python",
   "nbconvert_exporter": "python",
   "pygments_lexer": "ipython3",
   "version": "3.8.3-final"
  },
  "orig_nbformat": 2,
  "kernelspec": {
   "name": "python3",
   "display_name": "Python 3"
  }
 },
 "nbformat": 4,
 "nbformat_minor": 2,
 "cells": [
  {
   "cell_type": "code",
   "execution_count": 1,
   "metadata": {},
   "outputs": [
    {
     "output_type": "stream",
     "name": "stdout",
     "text": [
      "Ditt namn har 5 bokstäver.\n"
     ]
    }
   ],
   "source": [
    "#1\n",
    "namn = str(input(\"Skriv ditt namn:\"))\n",
    "\n",
    "print(f\"Ditt namn har {len(namn)} bokstäver.\")"
   ]
  },
  {
   "cell_type": "code",
   "execution_count": 3,
   "metadata": {},
   "outputs": [
    {
     "output_type": "stream",
     "name": "stdout",
     "text": [
      "Meningen innehåller 15 ord.\n"
     ]
    }
   ],
   "source": [
    "#2\n",
    "mening = \"En bild säger mer än tusen ord, en matematisk formel säger mer än tusen bilder\"\n",
    "\n",
    "mening = mening.split(\" \")\n",
    "\n",
    "print(f\"Meningen innehåller {len(mening)} ord.\")"
   ]
  },
  {
   "cell_type": "code",
   "execution_count": null,
   "metadata": {},
   "outputs": [],
   "source": []
  }
 ]
}