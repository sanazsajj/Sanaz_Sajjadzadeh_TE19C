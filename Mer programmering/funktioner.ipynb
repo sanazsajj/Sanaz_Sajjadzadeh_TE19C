{
 "metadata": {
  "language_info": {
   "codemirror_mode": {
    "name": "ipython",
    "version": 3
   },
   "file_extension": ".py",
   "mimetype": "text/x-python",
   "name": "python",
   "nbconvert_exporter": "python",
   "pygments_lexer": "ipython3",
   "version": "3.8.3-final"
  },
  "orig_nbformat": 2,
  "kernelspec": {
   "name": "python3",
   "display_name": "Python 3"
  }
 },
 "nbformat": 4,
 "nbformat_minor": 2,
 "cells": [
  {
   "source": [
    "# Funtioner\n",
    "- inparameter\n",
    "- return-sats\n",
    "- lokala variabler"
   ],
   "cell_type": "markdown",
   "metadata": {}
  },
  {
   "cell_type": "code",
   "execution_count": 3,
   "metadata": {},
   "outputs": [
    {
     "output_type": "stream",
     "name": "stdout",
     "text": [
      "2.5\n25.0\n"
     ]
    }
   ],
   "source": [
    "def medelvärde(a,b,c,d):\n",
    "    medel = (a+b+c+d)/4 #lokal variabel, syns ej utanför funktionen\n",
    "    return medel\n",
    "\n",
    "#print(medel)\n",
    "print(medelvärde(1,2,3,4))\n",
    "print(medelvärde(10,20,30,40))"
   ]
  },
  {
   "cell_type": "code",
   "execution_count": 5,
   "metadata": {},
   "outputs": [
    {
     "output_type": "stream",
     "name": "stdout",
     "text": [
      "Antal ord i citatet: 7\n"
     ]
    }
   ],
   "source": [
    "#räkna ord\n",
    "def räkna_ord(text):\n",
    "    ord = text.split()\n",
    "    antal_ord = len(ord)\n",
    "    return antal_ord\n",
    "\n",
    "citat = \"I stand on the shoulders of giants\"\n",
    "print(f\"Antal ord i citatet: {räkna_ord(citat)}\")"
   ]
  },
  {
   "cell_type": "code",
   "execution_count": 44,
   "metadata": {},
   "outputs": [
    {
     "output_type": "stream",
     "name": "stdout",
     "text": [
      "a) Det är 2.5 miljarder människor på jorden år 1950.\nb) Den övre gränsen är 11.0 miljarder människor.\n"
     ]
    }
   ],
   "source": [
    "import numpy as np\n",
    "def antal_människor(t):\n",
    "    N = 11/(1+3.4*np.exp(-0.03*t))\n",
    "    return N\n",
    "    \n",
    "print(f\"a) Det är {antal_människor(0)} miljarder människor på jorden år 1950.\")\n",
    "print(f\"b) Den övre gränsen är {antal_människor(10000)} miljarder människor.\")"
   ]
  },
  {
   "cell_type": "code",
   "execution_count": 3,
   "metadata": {},
   "outputs": [
    {
     "output_type": "stream",
     "name": "stdout",
     "text": [
      "9\n9\n"
     ]
    }
   ],
   "source": [
    "def f(x):\n",
    "    return (-x)**2\n",
    "\n",
    "print(f(3))\n",
    "print(f(-3))"
   ]
  },
  {
   "cell_type": "code",
   "execution_count": 5,
   "metadata": {},
   "outputs": [
    {
     "output_type": "stream",
     "name": "stdout",
     "text": [
      "Hej\n"
     ]
    }
   ],
   "source": [
    "def sayHello():\n",
    "    print(\"Hej\")\n",
    "\n",
    "sayHello()"
   ]
  },
  {
   "cell_type": "code",
   "execution_count": 7,
   "metadata": {},
   "outputs": [
    {
     "output_type": "stream",
     "name": "stdout",
     "text": [
      "TE19C är bäst\nTE19C ska sluta spela kort\n"
     ]
    }
   ],
   "source": [
    "def skrivUt(text):\n",
    "    print(text)\n",
    "\n",
    "skrivUt(\"TE19C är bäst\")\n",
    "skrivUt(\"TE19C ska sluta spela kort\")"
   ]
  },
  {
   "cell_type": "code",
   "execution_count": 10,
   "metadata": {},
   "outputs": [
    {
     "output_type": "stream",
     "name": "stdout",
     "text": [
      "1\n"
     ]
    }
   ],
   "source": [
    "def minsta(tal1,tal2):\n",
    "    if tal1 > tal2:\n",
    "        return tal2\n",
    "    else:\n",
    "        return tal1\n",
    "    \n",
    "print(minsta(1,1000000))"
   ]
  },
  {
   "cell_type": "code",
   "execution_count": null,
   "metadata": {},
   "outputs": [],
   "source": []
  }
 ]
}