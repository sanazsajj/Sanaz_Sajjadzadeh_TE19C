{
 "metadata": {
  "language_info": {
   "codemirror_mode": {
    "name": "ipython",
    "version": 3
   },
   "file_extension": ".py",
   "mimetype": "text/x-python",
   "name": "python",
   "nbconvert_exporter": "python",
   "pygments_lexer": "ipython3",
   "version": "3.8.3-final"
  },
  "orig_nbformat": 2,
  "kernelspec": {
   "name": "python3",
   "display_name": "Python 3.8.3 64-bit (conda)",
   "metadata": {
    "interpreter": {
     "hash": "5b86445519ddd09a356feb3e84bf3caf54a10c9a31c550d55b2642c4f0b7c01c"
    }
   }
  }
 },
 "nbformat": 4,
 "nbformat_minor": 2,
 "cells": [
  {
   "source": [
    "## Konkatenering\n",
    "lägger ihop strängar"
   ],
   "cell_type": "markdown",
   "metadata": {}
  },
  {
   "cell_type": "code",
   "execution_count": 6,
   "metadata": {},
   "outputs": [
    {
     "output_type": "stream",
     "name": "stdout",
     "text": [
      "Namn: Sanaz Sajjadzadeh\nÅlder: 17\nTelefon: 112\n"
     ]
    }
   ],
   "source": [
    "förnamn = \"Sanaz\"\n",
    "efternamn = \"Sajjadzadeh\"\n",
    "\n",
    "# konkatenering (addera strängarna)\n",
    "namn = förnamn + \" \" + efternamn\n",
    "ålder = \"17\" # datatyp - str\n",
    "adress = \"Kronhusgatan 9\"\n",
    "telefon = 112 # datatyp - int(heltal)\n",
    "\n",
    "personuppg = \"Namn: \" + namn + \"\\n\" + \"Ålder: \" + ålder + \"\\n\" + \"Telefon: \" + str(telefon)\n",
    "\n",
    "print(personuppg)"
   ]
  },
  {
   "cell_type": "code",
   "execution_count": 3,
   "metadata": {},
   "outputs": [
    {
     "output_type": "stream",
     "name": "stdout",
     "text": [
      "10\n"
     ]
    }
   ],
   "source": [
    "tal1 = int(input(\"Ange ett tal: \"))\n",
    "tal2 = int(input(\"Ange ett annat tal: \"))\n",
    "\n",
    "summa = tal1 + tal2\n",
    "print(summa)"
   ]
  },
  {
   "source": [
    "## Indexering"
   ],
   "cell_type": "markdown",
   "metadata": {}
  },
  {
   "cell_type": "code",
   "execution_count": 10,
   "metadata": {},
   "outputs": [
    {
     "output_type": "stream",
     "name": "stdout",
     "text": [
      "Alfabetet innehåller 29 bokstäver\nBokstav på index 0: a\nBokstav på index -2: ä\nBokstav på index -6: x\nAlfabetet baklänges: öäåzyxwvutsrqponmlkjihgfedcba\n"
     ]
    }
   ],
   "source": [
    "alfabet = \"abcdefghijklmnopqrstuvwxyzåäö\"\n",
    "\n",
    "# len() funtion _ ger längden på en lista\n",
    "print(f\"Alfabetet innehåller {len(alfabet)} bokstäver\")\n",
    "\n",
    "# indexera\n",
    "print(f\"Bokstav på index 0: {alfabet[0]}\")\n",
    "print(f\"Bokstav på index -2: {alfabet[-2]}\")\n",
    "print(f\"Bokstav på index -6: {alfabet[-6]}\")\n",
    "print(f\"Alfabetet baklänges: {alfabet[::-1]}\")"
   ]
  },
  {
   "source": [
    "## split()"
   ],
   "cell_type": "markdown",
   "metadata": {}
  },
  {
   "cell_type": "code",
   "execution_count": 15,
   "metadata": {},
   "outputs": [
    {
     "output_type": "stream",
     "name": "stdout",
     "text": [
      "['Matematik', 'programmering', 'teknik', 'webbutveckling', 'fysik']\n['lasagne', 'korv', 'grönsaker', 'kebab', 'ris']\nJag älskar att äta lasagne\nJag älskar att äta korv\nJag älskar att äta grönsaker\nJag älskar att äta kebab\nJag älskar att äta ris\n"
     ]
    }
   ],
   "source": [
    "favoritämnen = \"Matematik programmering teknik webbutveckling fysik\"\n",
    "favoritmat = \"lasagne, korv, grönsaker, kebab, ris\"\n",
    "\n",
    "# split() separerar en sträng\n",
    "favoritämnen = favoritämnen.split()\n",
    "favoritmat = favoritmat.split(\", \")\n",
    "\n",
    "print(favoritämnen)\n",
    "print(favoritmat)\n",
    "\n",
    "for mat in favoritmat:\n",
    "    print(f\"Jag älskar att äta {mat}\")"
   ]
  },
  {
   "cell_type": "code",
   "execution_count": null,
   "metadata": {},
   "outputs": [],
   "source": []
  }
 ]
}