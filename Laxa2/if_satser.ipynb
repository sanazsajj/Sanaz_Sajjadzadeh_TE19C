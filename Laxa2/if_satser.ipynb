{
 "metadata": {
  "language_info": {
   "codemirror_mode": {
    "name": "ipython",
    "version": 3
   },
   "file_extension": ".py",
   "mimetype": "text/x-python",
   "name": "python",
   "nbconvert_exporter": "python",
   "pygments_lexer": "ipython3",
   "version": "3.8.3-final"
  },
  "orig_nbformat": 2,
  "kernelspec": {
   "name": "python_defaultSpec_1600413386295",
   "display_name": "Python 3.8.3 64-bit ('base': conda)"
  }
 },
 "nbformat": 4,
 "nbformat_minor": 2,
 "cells": [
  {
   "cell_type": "code",
   "execution_count": 14,
   "metadata": {
    "tags": []
   },
   "outputs": [
    {
     "output_type": "stream",
     "name": "stdout",
     "text": "Talet är noll.\n"
    }
   ],
   "source": [
    "# Uppgift 1\n",
    "Tal = float(input(\"Ange ett tal.\"))\n",
    "\n",
    "if Tal == 0:\n",
    "    print(\"Talet är noll.\")\n",
    "elif Tal >  0:\n",
    "    print(\"Talet är positivt.\")\n",
    "else:\n",
    "    print(\"Talet är negativt.\")\n",
    "    "
   ]
  },
  {
   "cell_type": "code",
   "execution_count": 39,
   "metadata": {
    "tags": []
   },
   "outputs": [
    {
     "output_type": "stream",
     "name": "stdout",
     "text": "Talet är delbart med 5.\n"
    }
   ],
   "source": [
    "# Uppgift 2\n",
    "Tal = float(input(\"Ange ett heltal\"))\n",
    "\n",
    "if Tal%5 == 0:\n",
    "    print(\"Talet är delbart med 5.\")\n",
    "elif Tal%2 == 0:\n",
    "    print(\"Talet är jämt.\")\n",
    "else:\n",
    "    print(\"Talet är udda.\")"
   ]
  },
  {
   "cell_type": "code",
   "execution_count": 42,
   "metadata": {
    "tags": []
   },
   "outputs": [
    {
     "output_type": "stream",
     "name": "stdout",
     "text": "7\n"
    }
   ],
   "source": [
    "# Uppgift 3\n",
    "Tal1 = int(input(\"Ange tal1\"))\n",
    "Tal2 = int(input(\"Ange tal2\"))\n",
    "Tal3 = int(input(\"Ange tal3\"))\n",
    "Tal4 = int(input(\"Ange tal4\"))\n",
    "\n",
    "Tal = [Tal1, Tal2, Tal3, Tal4]\n",
    "\n",
    "störst = max(Tal)\n",
    "\n",
    "print(störst)"
   ]
  },
  {
   "cell_type": "code",
   "execution_count": 53,
   "metadata": {
    "tags": []
   },
   "outputs": [
    {
     "output_type": "stream",
     "name": "stdout",
     "text": "Hel vinkel\n"
    }
   ],
   "source": [
    "# Uppgift 4\n",
    "\n",
    "vinkel = float(input(\"Ange en vinkel v i grader\"))\n",
    "\n",
    "if vinkel >= 0 and vinkel < 90:\n",
    "    print(\"Spetsig vinkel\")\n",
    "\n",
    "elif vinkel == 90:\n",
    "    print(\"Rät vinkel\")\n",
    "\n",
    "elif vinkel > 90 and vinkel < 180:\n",
    "    print(\"Trubbig vinkel\")\n",
    "elif vinkel == 180:\n",
    "    print(\"Rak vinkel\")\n",
    "elif vinkel > 180 and vinkel < 360:\n",
    "    print(\"Konvex vinkel\")\n",
    "else:\n",
    "    print(\"Hel vinkel\")"
   ]
  },
  {
   "cell_type": "code",
   "execution_count": null,
   "metadata": {},
   "outputs": [],
   "source": []
  }
 ]
}