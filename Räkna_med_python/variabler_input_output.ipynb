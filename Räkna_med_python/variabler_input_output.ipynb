{
 "metadata": {
  "language_info": {
   "codemirror_mode": {
    "name": "ipython",
    "version": 3
   },
   "file_extension": ".py",
   "mimetype": "text/x-python",
   "name": "python",
   "nbconvert_exporter": "python",
   "pygments_lexer": "ipython3",
   "version": "3.8.3-final"
  },
  "orig_nbformat": 2,
  "kernelspec": {
   "name": "python_defaultSpec_1599649467533",
   "display_name": "Python 3.8.3 64-bit ('base': conda)"
  }
 },
 "nbformat": 4,
 "nbformat_minor": 2,
 "cells": [
  {
   "cell_type": "markdown",
   "metadata": {},
   "source": [
    "# Tyngdkraft\n",
    "\n",
    "- Fråga användaren om sin vikt\n",
    "- Beräkna tyngdkraften"
   ]
  },
  {
   "cell_type": "code",
   "execution_count": 13,
   "metadata": {
    "tags": []
   },
   "outputs": [
    {
     "output_type": "stream",
     "name": "stdout",
     "text": "Din tyngdkraft är 5.6956N\nDin tyngdkraft är 5.6956 N\n"
    }
   ],
   "source": [
    "# skapar en variabel g och tilldelar det värdet 9.82\n",
    "g = 9.82\n",
    "\n",
    "#Input ger oss en sträng, float typomvandlar den till flyttal\n",
    "m = float(input(\"Hur mycket väger du?\"))\n",
    "\n",
    "F = m*g\n",
    "\n",
    "print(f\"Din tyngdkraft är {F}N\") #f-string\n",
    "print(\"Din tyngdkraft är\",F,\"N\")"
   ]
  },
  {
   "cell_type": "markdown",
   "metadata": {
    "tags": []
   },
   "source": [
    "# Procent\n",
    "\n",
    "- Fråga användaren om ett decimaltal\n",
    "- Omvandla talet till procent\n"
   ]
  },
  {
   "cell_type": "code",
   "execution_count": 19,
   "metadata": {
    "tags": []
   },
   "outputs": [
    {
     "output_type": "stream",
     "name": "stdout",
     "text": "0.58 = 58%\n0.58 = 58 %\n"
    }
   ],
   "source": [
    "decimalTal = float(input(\"Ange ett decimaltal: \"))\n",
    "\n",
    "procent = decimalTal*100\n",
    "\n",
    "print(f\"{decimalTal} = {procent:.0f}%\")\n",
    "print(decimalTal,\"=\",round(procent),\"%\")"
   ]
  },
  {
   "cell_type": "markdown",
   "metadata": {},
   "source": [
    "# K  $\\rightarrow$ °C\n",
    "\n",
    "- Fråga användaren att ange temperaturen i Kelvin och omvandla till °C"
   ]
  },
  {
   "cell_type": "code",
   "execution_count": 41,
   "metadata": {
    "tags": []
   },
   "outputs": [
    {
     "output_type": "stream",
     "name": "stdout",
     "text": "100.0 = -173.1°C\n"
    }
   ],
   "source": [
    "kelvin = float(input(\"Ange temperaturen i Kelvin: \"))\n",
    "\n",
    "Celsius = kelvin-273.15\n",
    "\n",
    "print(f\"{kelvin} = {Celsius:.1f}°C\")"
   ]
  },
  {
   "cell_type": "markdown",
   "metadata": {},
   "source": [
    "# °C  $\\rightarrow$ K\n",
    "\n",
    "- Fråga användaren att ange temperaturen i °C och omvandla till Kelvin"
   ]
  },
  {
   "cell_type": "code",
   "execution_count": 43,
   "metadata": {
    "tags": []
   },
   "outputs": [
    {
     "output_type": "stream",
     "name": "stdout",
     "text": "100.0 = 373.1°C\n"
    }
   ],
   "source": [
    "Celsius = float(input(\"Ange temperaturen i Celsius: \"))\n",
    "\n",
    "Kelvin = Celsius+273.15\n",
    "\n",
    "print(f\"{Celsius} = {Kelvin:.1f}°C\")"
   ]
  },
  {
   "cell_type": "markdown",
   "metadata": {},
   "source": [
    "# Västtrafik\n",
    "\n",
    "- Fråga användaren hur många gånger hen åker med västtrafik. Beräkna totala kostnaden om användaren betalar med engångsbiljetter"
   ]
  },
  {
   "cell_type": "code",
   "execution_count": 20,
   "metadata": {
    "tags": []
   },
   "outputs": [
    {
     "output_type": "stream",
     "name": "stdout",
     "text": "Din kostnad är 1500.0 kr.\nOm du köper månadskort, kostar det 15.5 kr för varje gång du åker.\n"
    }
   ],
   "source": [
    "Engångsbiljett = 30\n",
    "\n",
    "Antal = float(input(\"Hur många gånger åker du med västtrafik?\"))\n",
    "\n",
    "Kostnad = Antal*30\n",
    "\n",
    "Kostnad2 = 775/Antal\n",
    "\n",
    "print(\"Din kostnad är\",Kostnad,\"kr.\")\n",
    "print(\"Om du köper månadskort, kostar det\",Kostnad2,\"kr för varje gång du åker.\")"
   ]
  },
  {
   "cell_type": "code",
   "execution_count": null,
   "metadata": {},
   "outputs": [],
   "source": []
  }
 ]
}