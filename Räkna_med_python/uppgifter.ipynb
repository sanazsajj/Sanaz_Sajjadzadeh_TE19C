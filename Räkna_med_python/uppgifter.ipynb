{
 "metadata": {
  "language_info": {
   "codemirror_mode": {
    "name": "ipython",
    "version": 3
   },
   "file_extension": ".py",
   "mimetype": "text/x-python",
   "name": "python",
   "nbconvert_exporter": "python",
   "pygments_lexer": "ipython3",
   "version": "3.8.3-final"
  },
  "orig_nbformat": 2,
  "kernelspec": {
   "name": "python_defaultSpec_1599045909870",
   "display_name": "Python 3.8.3 64-bit ('base': conda)"
  }
 },
 "nbformat": 4,
 "nbformat_minor": 2,
 "cells": [
  {
   "cell_type": "code",
   "execution_count": 10,
   "metadata": {
    "tags": []
   },
   "outputs": [
    {
     "output_type": "stream",
     "name": "stdout",
     "text": "5\n17.0\n127\n"
    }
   ],
   "source": [
    "#uppgift 1\n",
    "\n",
    "print(12-7)\n",
    "print(24/3+9)\n",
    "print(3*43-2)"
   ]
  },
  {
   "cell_type": "code",
   "execution_count": 6,
   "metadata": {
    "tags": []
   },
   "outputs": [
    {
     "output_type": "stream",
     "name": "stdout",
     "text": "Hej! Hur mår du?\n"
    }
   ],
   "source": [
    "#uppgift 2\n",
    "\n",
    "print(\"Hej! Hur mår du?\")"
   ]
  },
  {
   "cell_type": "code",
   "execution_count": 11,
   "metadata": {
    "tags": []
   },
   "outputs": [
    {
     "output_type": "stream",
     "name": "stdout",
     "text": "30\n59\n168\n"
    }
   ],
   "source": [
    "#uppgift 3\n",
    "\n",
    "print(15*2)\n",
    "print(15*2+29)\n",
    "print(15*3+29*3+12*3)"
   ]
  },
  {
   "cell_type": "code",
   "execution_count": 12,
   "metadata": {
    "tags": []
   },
   "outputs": [
    {
     "output_type": "stream",
     "name": "stdout",
     "text": "9863\n"
    }
   ],
   "source": [
    "#uppgift 4\n",
    "\n",
    "print(219*45+8)"
   ]
  },
  {
   "cell_type": "code",
   "execution_count": 25,
   "metadata": {
    "tags": []
   },
   "outputs": [
    {
     "output_type": "stream",
     "name": "stdout",
     "text": "De hamnar inte på samma rad\nOm du kör med hastigheten 70 km/h i 1,5 timmar, så hinner du 105.0 km.\n"
    }
   ],
   "source": [
    "#uppgift 5\n",
    "\n",
    "print(\"De hamnar inte på samma rad.\")\n",
    "print(\"Om du kör med hastigheten 70 km/h i 1,5 timmar, så hinner du\",70*1.5, \"km.\") \n"
   ]
  },
  {
   "cell_type": "code",
   "execution_count": null,
   "metadata": {},
   "outputs": [],
   "source": []
  }
 ]
}