{
 "metadata": {
  "language_info": {
   "codemirror_mode": {
    "name": "ipython",
    "version": 3
   },
   "file_extension": ".py",
   "mimetype": "text/x-python",
   "name": "python",
   "nbconvert_exporter": "python",
   "pygments_lexer": "ipython3",
   "version": "3.8.3-final"
  },
  "orig_nbformat": 2,
  "kernelspec": {
   "name": "Python 3.8.3 64-bit ('base')",
   "display_name": "Python 3.8.3 64-bit ('base')",
   "metadata": {
    "interpreter": {
     "hash": "5b86445519ddd09a356feb3e84bf3caf54a10c9a31c550d55b2642c4f0b7c01c"
    }
   }
  }
 },
 "nbformat": 4,
 "nbformat_minor": 2,
 "cells": [
  {
   "cell_type": "code",
   "execution_count": 6,
   "metadata": {
    "tags": []
   },
   "outputs": [
    {
     "output_type": "stream",
     "name": "stdout",
     "text": "# # # # # # # # # # 0\n# # # # # # # # # # 1\n# # # # # # # # # # 2\n# # # # # # # # # # 3\n# # # # # # # # # # 4\n# # # # # # # # # # 5\n# # # # # # # # # # 6\n# # # # # # # # # # 7\n# # # # # # # # # # 8\n# # # # # # # # # # 9\n"
    }
   ],
   "source": [
    "for i in range(10):\n",
    "    for j in range(10):\n",
    "        print(\"#\", end =\" \")\n",
    "    print(i)"
   ]
  },
  {
   "cell_type": "code",
   "execution_count": null,
   "metadata": {},
   "outputs": [],
   "source": []
  }
 ]
}