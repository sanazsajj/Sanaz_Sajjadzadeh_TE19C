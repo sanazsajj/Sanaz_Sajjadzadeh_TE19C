{
 "metadata": {
  "language_info": {
   "codemirror_mode": {
    "name": "ipython",
    "version": 3
   },
   "file_extension": ".py",
   "mimetype": "text/x-python",
   "name": "python",
   "nbconvert_exporter": "python",
   "pygments_lexer": "ipython3",
   "version": "3.8.3-final"
  },
  "orig_nbformat": 2,
  "kernelspec": {
   "name": "python_defaultSpec_1600411180357",
   "display_name": "Python 3.8.3 64-bit ('base': conda)"
  }
 },
 "nbformat": 4,
 "nbformat_minor": 2,
 "cells": [
  {
   "cell_type": "markdown",
   "metadata": {},
   "source": [
    "# Provbetyg\n",
    "\n",
    "x - antal poäng\n",
    "\n",
    "A: $x > 60$\n",
    "\n",
    "B: 56-60\n",
    "\n",
    "C: 51-55\n",
    "\n",
    "D: 41-50\n",
    "\n",
    "E: 31-40\n",
    "\n",
    "F: $x \\le 30$\n",
    "\n",
    "Slumpa fram en poäng mellan 0 och 65 och ge ett betyg till eleven"
   ]
  },
  {
   "cell_type": "code",
   "execution_count": 7,
   "metadata": {
    "tags": []
   },
   "outputs": [
    {
     "output_type": "stream",
     "name": "stdout",
     "text": "Eleven Tommy fick 47 poäng, vilket ger betyg D.\n"
    }
   ],
   "source": [
    "import random as rnd\n",
    "\n",
    "# slumpar ett heltal mellan 0 och 65\n",
    "poäng = rnd.randint(0,65)\n",
    "\n",
    "# skapat en lista som håller 6 strängar\n",
    "klass = [\"Kokchun\", \"Tommy\", \"Henrik\", \"Zsofia\", \"Simon\", \"Tatiana\"]\n",
    "\n",
    "if poäng <= 30:\n",
    "    betyg= \"F\"\n",
    "elif poäng <= 40:\n",
    "    betyg= \"E\"\n",
    "elif poäng <= 50:\n",
    "    betyg= \"D\"\n",
    "elif poäng <= 55:\n",
    "    betyg= \"C\"\n",
    "elif poäng <= 60:\n",
    "    betyg= \"B\"\n",
    "else:\n",
    "    betyg= \"A\"\n",
    "elev = rnd.choice(klass)\n",
    "\n",
    "print(f\"Eleven {elev} fick {poäng} poäng, vilket ger betyg {betyg}.\")\n",
    "\n",
    "# utökning av programmet: gör en for-sats som loopar igenom klassen och tar bort elever som vi använt."
   ]
  },
  {
   "cell_type": "code",
   "execution_count": 8,
   "metadata": {
    "tags": []
   },
   "outputs": [
    {
     "output_type": "stream",
     "name": "stdout",
     "text": "hej\n"
    }
   ],
   "source": [
    "'''\n",
    "det här är\n",
    "en multiline\n",
    "kommentar\n",
    "och kommer inte påverka programmet\n",
    "'''\n",
    "\n",
    "print(\"hej\")"
   ]
  }
 ]
}