{
 "metadata": {
  "language_info": {
   "codemirror_mode": {
    "name": "ipython",
    "version": 3
   },
   "file_extension": ".py",
   "mimetype": "text/x-python",
   "name": "python",
   "nbconvert_exporter": "python",
   "pygments_lexer": "ipython3",
   "version": "3.8.3-final"
  },
  "orig_nbformat": 2,
  "kernelspec": {
   "name": "python_defaultSpec_1599807878299",
   "display_name": "Python 3.8.3 64-bit ('base': conda)"
  }
 },
 "nbformat": 4,
 "nbformat_minor": 2,
 "cells": [
  {
   "cell_type": "markdown",
   "metadata": {},
   "source": [
    "# Jämt eller udda\n",
    "\n",
    "- läs in ett tal och checka om taler är jämt eller udda"
   ]
  },
  {
   "cell_type": "code",
   "execution_count": 4,
   "metadata": {
    "tags": []
   },
   "outputs": [
    {
     "output_type": "stream",
     "name": "stdout",
     "text": "Talet är jämt\n"
    }
   ],
   "source": [
    "tal = int(input(\"Ange ett heltal: \")) # typomvandlar till int (heltal)\n",
    "\n",
    "# med % --> om tal%2 == = --> jämt, annars udda\n",
    "if tal%2 ==0:\n",
    "    print(\"Talet är jämt\")\n",
    "else:\n",
    "    print(\"Talet är udda\")"
   ]
  },
  {
   "cell_type": "markdown",
   "metadata": {},
   "source": [
    "# Triangelns vinkel\n",
    "\n",
    "- spetsig\n",
    "- rät\n",
    "- trubbig\n",
    "- annat\n",
    "\n",
    "Spetsig: $0 \\le v <90$\n",
    "\n",
    "Rät: $v= 90$\n",
    "\n",
    "Trubbig: $90 < v <180$"
   ]
  },
  {
   "cell_type": "code",
   "execution_count": 10,
   "metadata": {
    "tags": []
   },
   "outputs": [
    {
     "output_type": "stream",
     "name": "stdout",
     "text": "Rät vinkel\n"
    }
   ],
   "source": [
    "vinkel = float(input(\"ange en vinkel v i grader, där 0 <= v <= 360 : \"))\n",
    "\n",
    "if vinkel >= 0 and vinkel < 90:\n",
    "    print(\"Spetsig vinkel\")\n",
    "\n",
    "elif vinkel == 90:\n",
    "    print(\"Rät vinkel\")\n",
    "\n",
    "elif vinkel > 90 and vinkel < 180:\n",
    "    print(\"Trubbig vinkel\")\n",
    "\n",
    "else:\n",
    "    print(\"Vinkeln är inte spetsig, rät eller trubbig\")\n"
   ]
  },
  {
   "cell_type": "code",
   "execution_count": null,
   "metadata": {},
   "outputs": [],
   "source": []
  }
 ]
}