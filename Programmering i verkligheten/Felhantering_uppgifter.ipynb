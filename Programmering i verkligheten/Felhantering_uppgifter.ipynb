{
 "metadata": {
  "language_info": {
   "codemirror_mode": {
    "name": "ipython",
    "version": 3
   },
   "file_extension": ".py",
   "mimetype": "text/x-python",
   "name": "python",
   "nbconvert_exporter": "python",
   "pygments_lexer": "ipython3",
   "version": "3.8.3-final"
  },
  "orig_nbformat": 2,
  "kernelspec": {
   "name": "python3",
   "display_name": "Python 3",
   "language": "python"
  }
 },
 "nbformat": 4,
 "nbformat_minor": 2,
 "cells": [
  {
   "cell_type": "code",
   "execution_count": 2,
   "metadata": {},
   "outputs": [
    {
     "output_type": "stream",
     "name": "stdout",
     "text": [
      "0.7071067811865476\n"
     ]
    }
   ],
   "source": [
    "#1\n",
    "import numpy as np\n",
    "\n",
    "def distance(p1, p2):\n",
    "    return np.sqrt(p1**2+p2**2)\n",
    "\n",
    "print(distance(0.5,0.5))"
   ]
  },
  {
   "cell_type": "code",
   "execution_count": 4,
   "metadata": {},
   "outputs": [
    {
     "output_type": "stream",
     "name": "stdout",
     "text": [
      "100 är inte fyrsiffrigt\n231 är inte fyrsiffrigt\n10000 är inte fyrsiffrigt\n10001 är inte fyrsiffrigt\n-1000 är fyrsiffrigt\n102313 är inte fyrsiffrigt\n"
     ]
    }
   ],
   "source": [
    "#2\n",
    "def ar_fyrsiffrigt(tal):\n",
    "    if tal//1000 < 10 and tal//1000 > 1:\n",
    "        return True\n",
    "    elif tal//1000 > -10 and tal//1000 < 0:\n",
    "        return True\n",
    "    else:\n",
    "        return False\n",
    "\n",
    "# testprogram\n",
    "testtal = [100, 231, 10000, 10001, -1000, 102313]\n",
    "\n",
    "for t in testtal:\n",
    "    if ar_fyrsiffrigt(t):\n",
    "        print(f\"{t} är fyrsiffrigt\")\n",
    "    else:\n",
    "        print(f\"{t} är inte fyrsiffrigt\")"
   ]
  },
  {
   "cell_type": "code",
   "execution_count": 11,
   "metadata": {
    "tags": []
   },
   "outputs": [
    {
     "output_type": "stream",
     "name": "stdout",
     "text": [
      "Om du betalar engångskostnaden kostar det 1500 kr att åka 50 gånger varje månad.\nOm du köper ett månadskort kostar det 775 kr att åka 50 gånger varje månad.\nDu tjänar mer på att köpa ett månadskort.\n"
     ]
    }
   ],
   "source": [
    "#3\n",
    "while True:\n",
    "    try:\n",
    "        spårvagn = int(input(\"Hur många gånger i månaden vill du åka spårvagn?\"))\n",
    "        assert spårvagn > 0, \"Du måste åka minst en gång.\"\n",
    "        break\n",
    "    except AssertionError as msg:\n",
    "        print(msg)\n",
    "    except:\n",
    "        print(\"Du måste skriva ett tal inte en sträng.\")\n",
    "\n",
    "engångskostnad = 30\n",
    "månadskostnad = 30*spårvagn\n",
    "månadskort = 775\n",
    "\n",
    "print(f\"Om du betalar engångskostnaden kostar det {månadskostnad} kr att åka {spårvagn} gånger varje månad.\")\n",
    "print(f\"Om du köper ett månadskort kostar det {månadskort} kr att åka {spårvagn} gånger varje månad.\")\n",
    "\n",
    "if månadskort < månadskostnad:\n",
    "    print(\"Du tjänar mer på att köpa ett månadskort.\")\n",
    "\n",
    "else:\n",
    "    print(\"Du tjänar mindre på att köpa ett månadskort.\")\n"
   ]
  },
  {
   "cell_type": "code",
   "execution_count": null,
   "metadata": {},
   "outputs": [],
   "source": []
  }
 ]
}