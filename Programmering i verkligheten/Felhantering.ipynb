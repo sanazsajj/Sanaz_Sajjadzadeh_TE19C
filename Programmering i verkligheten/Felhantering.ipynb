{
 "metadata": {
  "language_info": {
   "codemirror_mode": {
    "name": "ipython",
    "version": 3
   },
   "file_extension": ".py",
   "mimetype": "text/x-python",
   "name": "python",
   "nbconvert_exporter": "python",
   "pygments_lexer": "ipython3",
   "version": "3.8.3-final"
  },
  "orig_nbformat": 2,
  "kernelspec": {
   "name": "python3",
   "display_name": "Python 3",
   "language": "python"
  }
 },
 "nbformat": 4,
 "nbformat_minor": 2,
 "cells": [
  {
   "source": [
    "# Felhantering\n",
    "- syntaxfel - språkregler följs inte, hittas när man skriver programmet/under exekvering\n",
    "- exekveringsfel - felet upptäckt under körningen, vilket kan krascha programmet\n",
    "- logiskt fel - \"Felaktig lösning på problemet\", kan ge felaktiga resultat. Svåra att upptäcka."
   ],
   "cell_type": "markdown",
   "metadata": {}
  },
  {
   "cell_type": "code",
   "execution_count": 10,
   "metadata": {},
   "outputs": [
    {
     "output_type": "stream",
     "name": "stdout",
     "text": [
      "Ålder ska vara ett tal och inte sträng.\n",
      "Din ålder ska vara mellan 0 och 124.\n",
      "Din ålder ska vara mellan 0 och 124.\n",
      "Du är vuxen.\n"
     ]
    }
   ],
   "source": [
    "while True:\n",
    "    try:\n",
    "        ålder = float(input(\"Hur gammal är du?\"))\n",
    "        assert ålder >= 0 and ålder < 125, \"Din ålder ska vara mellan 0 och 124.\"\n",
    "        break #hoppar ut från while-satsen\n",
    "    except AssertionError as msg:\n",
    "        print(msg)\n",
    "    except:\n",
    "        print(\"Ålder ska vara ett tal och inte sträng.\")\n",
    "\n",
    "\n",
    "if ålder >= 18:\n",
    "    print(\"Du är vuxen.\")\n",
    "else:\n",
    "    print(\"Du är ett barn.\")\n",
    "\n"
   ]
  },
  {
   "source": [
    "# låt användaren mata in ett tal\n",
    "# skriv ut största talet\n",
    "# skriv ut minsta talet\n",
    "\n",
    "tal_str = input(\"Skriv in ett antal tal med mellanrum emellan: \")\n",
    "lista_str = tal_str.split() # split ger oss en lista, splittar där vi har mellanslag\n",
    "\n",
    "try:\n",
    "    # lista av flyttal\n",
    "    tal_lista = [float(x) for x in lista_str]\n",
    "    störst = max(tal_lista)\n",
    "    minst = min(tal_lista)\n",
    "    print(f\"Största talet är {störst}, minsta talet är {minst}.\")\n",
    "except:\n",
    "    print(\"Felaktiga tal\")\n",
    "\n",
    "print(tal_lista)"
   ],
   "cell_type": "code",
   "metadata": {},
   "execution_count": 13,
   "outputs": [
    {
     "output_type": "stream",
     "name": "stdout",
     "text": [
      "Största talet är 23.0, minsta talet är 12.0.\n[12.0, 14.0, 13.0, 16.0, 23.0]\n"
     ]
    }
   ]
  },
  {
   "cell_type": "code",
   "execution_count": null,
   "metadata": {},
   "outputs": [],
   "source": []
  }
 ]
}