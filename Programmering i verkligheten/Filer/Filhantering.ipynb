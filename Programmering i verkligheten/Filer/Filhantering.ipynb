{
 "metadata": {
  "language_info": {
   "codemirror_mode": {
    "name": "ipython",
    "version": 3
   },
   "file_extension": ".py",
   "mimetype": "text/x-python",
   "name": "python",
   "nbconvert_exporter": "python",
   "pygments_lexer": "ipython3",
   "version": "3.8.3-final"
  },
  "orig_nbformat": 2,
  "kernelspec": {
   "name": "python3",
   "display_name": "Python 3.8.3 64-bit (conda)",
   "metadata": {
    "interpreter": {
     "hash": "5b86445519ddd09a356feb3e84bf3caf54a10c9a31c550d55b2642c4f0b7c01c"
    }
   }
  }
 },
 "nbformat": 4,
 "nbformat_minor": 2,
 "cells": [
  {
   "source": [
    "# Filhantering 1 - .txt-filer \n",
    "- läs in fil och skriv ut texten"
   ],
   "cell_type": "markdown",
   "metadata": {}
  },
  {
   "cell_type": "code",
   "execution_count": 2,
   "metadata": {},
   "outputs": [
    {
     "output_type": "stream",
     "name": "stdout",
     "text": [
      "Isaac Newton 1643-01-04\n\n         Gallileo Gallilei 1564-02-15 \n\nLeonhard Euler 1707-04-15\n\nAlbert Einstein 1879-03-14       \n\n     Carl Friedrich Gauss 1799-04-30\n\nStephen Hawking 1942-01-08\n"
     ]
    }
   ],
   "source": [
    "with open(\"Stora forskare.txt\", \"r\") as f1:\n",
    "    for rad in f1:\n",
    "        print(rad)"
   ]
  },
  {
   "source": [
    "# Hitta alla födda före 1800-talet"
   ],
   "cell_type": "markdown",
   "metadata": {}
  },
  {
   "cell_type": "code",
   "execution_count": 4,
   "metadata": {},
   "outputs": [
    {
     "output_type": "stream",
     "name": "stdout",
     "text": [
      "Isaac Newton 1643-01-04\nGallileo Gallilei 1564-02-15\nLeonhard Euler 1707-04-15\nAlbert Einstein 1879-03-14\nCarl Friedrich Gauss 1799-04-30\nStephen Hawking 1942-01-08\n['Isaac Newton', 'Gallileo Gallilei', 'Leonhard Euler', 'Carl Friedrich Gauss']\n"
     ]
    }
   ],
   "source": [
    "före1800 = []\n",
    "\n",
    "with open(\"Stora forskare.txt\", \"r\") as f1:\n",
    "    for rad in f1:\n",
    "        # tar bort blanksteg och radbrytningar i början och slutet av varje rad\n",
    "        rad = rad.strip(\" \\n\")\n",
    "        print(rad)\n",
    "\n",
    "        # plocka ut året och typomvandla till int\n",
    "        år = int(rad[-10:-6])\n",
    "        #checka om året < 1800, lägg till i en lista\n",
    "        if år < 1800:\n",
    "            före1800.append(rad[0:-11])\n",
    "print(före1800)"
   ]
  },
  {
   "source": [
    "# Skriva till fil"
   ],
   "cell_type": "markdown",
   "metadata": {}
  },
  {
   "cell_type": "code",
   "execution_count": 6,
   "metadata": {},
   "outputs": [],
   "source": [
    "with open(\"Stora forskare.txt\", \"r\") as f1, open(\"Stora forskare 2.txt\",\"w\") as f2:\n",
    "    for rad in f1:\n",
    "        rad = rad.strip(\" \") #removes trailing and leading spaces\n",
    "        f2.write(rad)\n",
    "    \n",
    "    f2.write(\"Andrew Wiles 1953-04-11\\n\")"
   ]
  },
  {
   "cell_type": "code",
   "execution_count": 4,
   "metadata": {},
   "outputs": [],
   "source": [
    "with open(\"Stora forskare 2.txt\", \"w\") as f1: #Skriver över gamla filen\n",
    "    f1.write(\"Marie Curie 1867-11-07\\n\")"
   ]
  },
  {
   "cell_type": "code",
   "execution_count": 5,
   "metadata": {},
   "outputs": [],
   "source": [
    "with open(\"Stora forskare 2.txt\", \"a\") as f1: #Option \"a\" står för append, lägger till i slutet\n",
    "    f1.write(\"Pierre Curie 1859-05-15\\n\")"
   ]
  },
  {
   "source": [
    "## Typomvandlingar mm\n",
    "\n",
    "- en txt-fil kan endast acceptera strängar och inte tal"
   ],
   "cell_type": "markdown",
   "metadata": {}
  },
  {
   "cell_type": "code",
   "execution_count": 10,
   "metadata": {},
   "outputs": [
    {
     "output_type": "stream",
     "name": "stdout",
     "text": [
      "[0, 1, 2, 3, 4, 5, 6, 7, 8, 9]\n"
     ]
    }
   ],
   "source": [
    "tallista = [i for i in range(10)]\n",
    "\n",
    "print(tallista)\n",
    "\n",
    "with open(\"tal.txt\", \"w\") as f:\n",
    "    # f.write(tallista) går ej att lägga in en lista\n",
    "    for tal in tallista:\n",
    "        f.write(f\"{tal} \")\n"
   ]
  },
  {
   "cell_type": "code",
   "execution_count": null,
   "metadata": {},
   "outputs": [],
   "source": []
  }
 ]
}