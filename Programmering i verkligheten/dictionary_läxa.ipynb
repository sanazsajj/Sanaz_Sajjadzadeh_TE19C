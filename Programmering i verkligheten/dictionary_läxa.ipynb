{
 "metadata": {
  "language_info": {
   "codemirror_mode": {
    "name": "ipython",
    "version": 3
   },
   "file_extension": ".py",
   "mimetype": "text/x-python",
   "name": "python",
   "nbconvert_exporter": "python",
   "pygments_lexer": "ipython3",
   "version": "3.8.3-final"
  },
  "orig_nbformat": 2,
  "kernelspec": {
   "name": "python3",
   "display_name": "Python 3.8.3 64-bit (conda)",
   "metadata": {
    "interpreter": {
     "hash": "5b86445519ddd09a356feb3e84bf3caf54a10c9a31c550d55b2642c4f0b7c01c"
    }
   }
  }
 },
 "nbformat": 4,
 "nbformat_minor": 2,
 "cells": [
  {
   "cell_type": "code",
   "execution_count": 19,
   "metadata": {},
   "outputs": [
    {
     "output_type": "stream",
     "name": "stdout",
     "text": [
      "Jag läser 800 poäng just nu.\n"
     ]
    }
   ],
   "source": [
    "#1\n",
    "kurser = {\n",
    "    \"Idrott och hälsa 1\":100,\n",
    "    \"Engelska 6\":100,\n",
    "    \"Svenska 2\":100,\n",
    "    \"Fysik 1a\":100,\n",
    "    \"Dator- och nätverksteknik\":100,\n",
    "    \"Programmering 1\":100,\n",
    "    \"Webbutveckling 1\":100,\n",
    "    \"Matematik 4\":100\n",
    "}\n",
    "\n",
    "for key in kurser:\n",
    "    summa = kurser[\"Idrott och hälsa 1\"] + kurser[\"Engelska 6\"] + kurser[\"Svenska 2\"] + kurser[\"Fysik 1a\"] + kurser[\"Dator- och nätverksteknik\"] + kurser[\"Programmering 1\"] + kurser[\"Webbutveckling 1\"] + kurser[\"Matematik 4\"]\n",
    "\n",
    "print(f\"Jag läser {summa} poäng just nu.\")"
   ]
  },
  {
   "cell_type": "code",
   "execution_count": 22,
   "metadata": {
    "tags": []
   },
   "outputs": [
    {
     "output_type": "error",
     "ename": "SyntaxError",
     "evalue": "unexpected EOF while parsing (<ipython-input-22-100fe7f55f0f>, line 10)",
     "traceback": [
      "\u001b[1;36m  File \u001b[1;32m\"<ipython-input-22-100fe7f55f0f>\"\u001b[1;36m, line \u001b[1;32m10\u001b[0m\n\u001b[1;33m    print(tärningskas\u001b[0m\n\u001b[1;37m                     ^\u001b[0m\n\u001b[1;31mSyntaxError\u001b[0m\u001b[1;31m:\u001b[0m unexpected EOF while parsing\n"
     ]
    }
   ],
   "source": [
    "#2\n",
    "import random\n",
    "\n",
    "tärningskast = []\n",
    "\n",
    "for i in range(100000):\n",
    "    i = random.randint(1, 6)\n",
    "    tärningskast.append(i)\n",
    "\n",
    "tärningskast = {\n",
    "    \n",
    "}\n"
   ]
  },
  {
   "cell_type": "code",
   "execution_count": null,
   "metadata": {},
   "outputs": [],
   "source": []
  }
 ]
}