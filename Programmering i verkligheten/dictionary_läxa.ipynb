{
 "metadata": {
  "language_info": {
   "codemirror_mode": {
    "name": "ipython",
    "version": 3
   },
   "file_extension": ".py",
   "mimetype": "text/x-python",
   "name": "python",
   "nbconvert_exporter": "python",
   "pygments_lexer": "ipython3",
   "version": "3.8.3-final"
  },
  "orig_nbformat": 2,
  "kernelspec": {
   "name": "python3",
   "display_name": "Python 3.8.3 64-bit (conda)",
   "metadata": {
    "interpreter": {
     "hash": "5b86445519ddd09a356feb3e84bf3caf54a10c9a31c550d55b2642c4f0b7c01c"
    }
   }
  }
 },
 "nbformat": 4,
 "nbformat_minor": 2,
 "cells": [
  {
   "cell_type": "code",
   "execution_count": 23,
   "metadata": {},
   "outputs": [
    {
     "output_type": "stream",
     "name": "stdout",
     "text": [
      "Jag läser 850 poäng just nu.\n"
     ]
    }
   ],
   "source": [
    "#1\n",
    "kurser = {\n",
    "    \"Idrott och hälsa 1\":100,\n",
    "    \"Engelska 6\":100,\n",
    "    \"Svenska 2\":100,\n",
    "    \"Fysik 1a\":150,\n",
    "    \"Dator- och nätverksteknik\":100,\n",
    "    \"Programmering 1\":100,\n",
    "    \"Webbutveckling 1\":100,\n",
    "    \"Matematik 4\":100\n",
    "}\n",
    "\n",
    "for key in kurser:\n",
    "    summa = kurser[\"Idrott och hälsa 1\"] + kurser[\"Engelska 6\"] + kurser[\"Svenska 2\"] + kurser[\"Fysik 1a\"] + kurser[\"Dator- och nätverksteknik\"] + kurser[\"Programmering 1\"] + kurser[\"Webbutveckling 1\"] + kurser[\"Matematik 4\"]\n",
    "\n",
    "print(f\"Jag läser {summa} poäng just nu.\")"
   ]
  },
  {
   "cell_type": "code",
   "execution_count": 104,
   "metadata": {
    "tags": []
   },
   "outputs": [
    {
     "output_type": "stream",
     "name": "stdout",
     "text": [
      "Frekvenstabell\n1: 16694\n2: 16656\n3: 16597\n4: 16725\n5: 16723\n6: 16605\n"
     ]
    }
   ],
   "source": [
    "#2\n",
    "import random\n",
    "\n",
    "tärningskast = {\n",
    "        1:ett,\n",
    "        2:två,\n",
    "        3:tre,\n",
    "        4:fyra,\n",
    "        5:fem,\n",
    "        6:sex  \n",
    "}\n",
    "\n",
    "ett = 0\n",
    "två = 0\n",
    "tre = 0\n",
    "fyra = 0\n",
    "fem = 0\n",
    "sex = 0\n",
    "\n",
    "for i in range(100000):\n",
    "    i = random.randint(1, 6)\n",
    "\n",
    "    if i == 1:\n",
    "        ett += 1\n",
    "    if i == 2:\n",
    "        två += 1\n",
    "    if i == 3:\n",
    "        tre += 1\n",
    "    if i == 4:\n",
    "        fyra += 1\n",
    "    if i == 5:\n",
    "        fem += 1\n",
    "    if i == 6:\n",
    "        sex += 1\n",
    "\n",
    "print(\"Frekvenstabell\")\n",
    "for key in tärningskast:\n",
    "    print(f\"{key}: {tärningskast[key]}\")"
   ]
  },
  {
   "cell_type": "code",
   "execution_count": 4,
   "metadata": {},
   "outputs": [
    {
     "output_type": "stream",
     "name": "stdout",
     "text": [
      "Typ: Elektrisk, index: 25\nTyp: SpÃ¶ke/Gift, index: 92\n"
     ]
    }
   ],
   "source": [
    "#3\n",
    "pokedex = {\n",
    "    }\n",
    "with open(\"pokemonlista.txt\", \"r\") as f1:\n",
    "    for rad in f1:\n",
    "        rad = rad.replace(\"\\n\", \" \")\n",
    "        index = rad.split(\" \")[0]\n",
    "        typ = rad.split(\" \")[2]\n",
    "        pokedex[rad.split(\" \")[1]] = f\"Typ: {typ}, index: {index}\"\n",
    "\n",
    "print(pokedex[\"Pikachu\"])\n",
    "print(pokedex[\"Gastly\"])\n",
    "        \n",
    "\n"
   ]
  },
  {
   "cell_type": "code",
   "execution_count": null,
   "metadata": {},
   "outputs": [],
   "source": []
  }
 ]
}