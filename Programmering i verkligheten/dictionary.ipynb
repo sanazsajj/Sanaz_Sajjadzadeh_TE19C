{
 "metadata": {
  "language_info": {
   "codemirror_mode": {
    "name": "ipython",
    "version": 3
   },
   "file_extension": ".py",
   "mimetype": "text/x-python",
   "name": "python",
   "nbconvert_exporter": "python",
   "pygments_lexer": "ipython3",
   "version": "3.8.3-final"
  },
  "orig_nbformat": 2,
  "kernelspec": {
   "name": "python3",
   "display_name": "Python 3.8.3 64-bit (conda)",
   "metadata": {
    "interpreter": {
     "hash": "5b86445519ddd09a356feb3e84bf3caf54a10c9a31c550d55b2642c4f0b7c01c"
    }
   }
  }
 },
 "nbformat": 4,
 "nbformat_minor": 2,
 "cells": [
  {
   "source": [
    "# Dictionary\n",
    "- key:value par\n",
    "- metafor: vanlig ordlista/lexikon"
   ],
   "cell_type": "markdown",
   "metadata": {}
  },
  {
   "cell_type": "code",
   "execution_count": 4,
   "metadata": {},
   "outputs": [
    {
     "output_type": "stream",
     "name": "stdout",
     "text": [
      "Sanaz är lärare och jobbar på NTI.\n"
     ]
    }
   ],
   "source": [
    "# syntax för dictionary\n",
    "person = dict(\n",
    "    namn = \"Sanaz\",\n",
    "    ålder= \"17\",\n",
    "    yrke = \"lärare\",\n",
    "    arbetsplats = \"NTI\"\n",
    ")\n",
    "\n",
    "print(f\"{person['namn']} är {person['yrke']} och jobbar på {person['arbetsplats']}.\")"
   ]
  },
  {
   "cell_type": "code",
   "execution_count": 11,
   "metadata": {},
   "outputs": [
    {
     "output_type": "stream",
     "name": "stdout",
     "text": [
      "Ord vi behöver lära oss: \ntilldela  \t ge ett värde till en variabel\ndatastruktur  \t strukturering av data\nsträng  \t sekvens av tecken\ndictionary  \t datastruktur för att spara data i key:value par\n\n\nGloslista\ntilldela  \t ge ett värde till en variabel\ndatastruktur  \t strukturering av data\nsträng  \t sekvens av tecken\ndictionary  \t datastruktur för att spara data i key:value par\n"
     ]
    }
   ],
   "source": [
    "# syntax med {}\n",
    "glosor = {\n",
    "    \"tilldela\":\"ge ett värde till en variabel\",\n",
    "    \"datastruktur\":\"strukturering av data\",\n",
    "    \"sträng\":\"sekvens av tecken\"\n",
    "}\n",
    "\n",
    "# lägga till ett element\n",
    "glosor[\"dictionary\"] = \"datastruktur för att spara data i key:value par\"\n",
    "\n",
    "\"\"\" print(glosor[\"tilldela\"])\n",
    "print(glosor[\"sträng\"])\n",
    "print(glosor[\"dictionary\"]) \"\"\"\n",
    "\n",
    "print(\"Ord vi behöver lära oss: \")\n",
    "# ett sätt att loopa igenom dictionary\n",
    "for key in glosor:\n",
    "    print(f\"{key}  \\t {glosor[key]}\")\n",
    "\n",
    "print(\"\\n\\nGloslista\")\n",
    "# ett annat sätt\n",
    "for key, value in glosor.items():\n",
    "    print(f\"{key}  \\t {value}\")\n"
   ]
  },
  {
   "cell_type": "code",
   "execution_count": null,
   "metadata": {},
   "outputs": [],
   "source": []
  }
 ]
}